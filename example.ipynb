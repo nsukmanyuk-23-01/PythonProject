{
  "nbformat": 4,
  "nbformat_minor": 0,
  "metadata": {
    "colab": {
      "provenance": [],
      "authorship_tag": "ABX9TyNTbzrEfSDFqY/fJ6RK8Cdd",
      "include_colab_link": true
    },
    "kernelspec": {
      "name": "python3",
      "display_name": "Python 3"
    },
    "language_info": {
      "name": "python"
    }
  },
  "cells": [
    {
      "cell_type": "markdown",
      "metadata": {
        "id": "view-in-github",
        "colab_type": "text"
      },
      "source": [
        "<a href=\"https://colab.research.google.com/github/nsukmanyuk-23-01/PythonProject/blob/main/example.ipynb\" target=\"_parent\"><img src=\"https://colab.research.google.com/assets/colab-badge.svg\" alt=\"Open In Colab\"/></a>"
      ]
    },
    {
      "cell_type": "code",
      "execution_count": 1,
      "metadata": {
        "id": "TM4HxwNVDNNB"
      },
      "outputs": [],
      "source": [
        "import numpy as np\n",
        "import matplotlib\n",
        "import pandas as pd"
      ]
    },
    {
      "cell_type": "code",
      "source": [
        "def exchanger(date, cur):\n",
        "\n",
        "  example1=date.split(\".\")\n",
        "  if not ((1<=int(example1[0])<=31) and (len(example1[0])==2)):\n",
        "    print(\"Некорректная дата\")\n",
        "    return\n",
        "  if not ((1<=int(example1[1])<=12) and (len(example1[1])==2)):\n",
        "    print(\"Некорректная дата\")\n",
        "    return\n",
        "  if not ((1992<=int(example1[2])<=2024) and (len(example1[2])==4)):\n",
        "    print(\"Некорректная дата\")\n",
        "    return\n",
        "  df=pd.read_html(\"https://cbr.ru/currency_base/daily/?UniDbQuery.Posted=True&UniDbQuery.To=\"+date, thousands='. ', decimal=',')\n",
        "  df=df[0]\n",
        "\n",
        "  if not cur in df['Букв. код'].to_numpy():\n",
        "    print(\"Список разрешенных валют: \")\n",
        "    print(df['Букв. код'].to_numpy())\n",
        "    return\n",
        "  else:\n",
        "    row=df.loc[df['Букв. код'] == cur]\n",
        "    res=row[\"Курс\"]/row[\"Единиц\"]\n",
        "    res = res.iloc[0]\n",
        "\n",
        "    return res"
      ],
      "metadata": {
        "id": "KzUQrUFZH3xc"
      },
      "execution_count": 57,
      "outputs": []
    },
    {
      "cell_type": "code",
      "source": [
        "exchanger(\"21.11.202\", \"AUD\")"
      ],
      "metadata": {
        "id": "PUOMVynmKLmz",
        "outputId": "562fd914-b13b-46bb-88d6-bf19318a418e",
        "colab": {
          "base_uri": "https://localhost:8080/"
        }
      },
      "execution_count": 58,
      "outputs": [
        {
          "output_type": "stream",
          "name": "stdout",
          "text": [
            "Некорректная дата\n"
          ]
        }
      ]
    }
  ]
}